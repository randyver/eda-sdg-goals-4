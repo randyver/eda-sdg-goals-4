{
 "cells": [
  {
   "cell_type": "code",
   "execution_count": 48,
   "metadata": {},
   "outputs": [],
   "source": [
    "import pandas as pd"
   ]
  },
  {
   "cell_type": "code",
   "execution_count": 49,
   "metadata": {},
   "outputs": [],
   "source": [
    "df_2021= pd.read_csv('2021.csv')\n",
    "df_2022= pd.read_csv('2022.csv')\n",
    "df_2023= pd.read_csv('2023.csv')"
   ]
  },
  {
   "cell_type": "code",
   "execution_count": 50,
   "metadata": {},
   "outputs": [
    {
     "data": {
      "text/html": [
       "<div>\n",
       "<style scoped>\n",
       "    .dataframe tbody tr th:only-of-type {\n",
       "        vertical-align: middle;\n",
       "    }\n",
       "\n",
       "    .dataframe tbody tr th {\n",
       "        vertical-align: top;\n",
       "    }\n",
       "\n",
       "    .dataframe thead th {\n",
       "        text-align: right;\n",
       "    }\n",
       "</style>\n",
       "<table border=\"1\" class=\"dataframe\">\n",
       "  <thead>\n",
       "    <tr style=\"text-align: right;\">\n",
       "      <th></th>\n",
       "      <th>Provinsi</th>\n",
       "      <th>Sekolah</th>\n",
       "      <th>Siswa</th>\n",
       "      <th>Mengulang</th>\n",
       "      <th>Putus Sekolah</th>\n",
       "      <th>Kepala Sekolah &amp; Guru</th>\n",
       "      <th>Tenaga Kependidikan</th>\n",
       "      <th>Rombel</th>\n",
       "      <th>Ruang Kelas</th>\n",
       "      <th>Status</th>\n",
       "    </tr>\n",
       "  </thead>\n",
       "  <tbody>\n",
       "    <tr>\n",
       "      <th>0</th>\n",
       "      <td>Prov. D.K.I. Jakarta</td>\n",
       "      <td>293</td>\n",
       "      <td>222930</td>\n",
       "      <td>0</td>\n",
       "      <td>181</td>\n",
       "      <td>9693</td>\n",
       "      <td>2209</td>\n",
       "      <td>6043</td>\n",
       "      <td>6228</td>\n",
       "      <td>Negeri</td>\n",
       "    </tr>\n",
       "    <tr>\n",
       "      <th>1</th>\n",
       "      <td>Prov. Jawa Barat</td>\n",
       "      <td>1969</td>\n",
       "      <td>1113692</td>\n",
       "      <td>0</td>\n",
       "      <td>502</td>\n",
       "      <td>52541</td>\n",
       "      <td>11470</td>\n",
       "      <td>33594</td>\n",
       "      <td>38750</td>\n",
       "      <td>Negeri</td>\n",
       "    </tr>\n",
       "    <tr>\n",
       "      <th>2</th>\n",
       "      <td>Prov. Jawa Tengah</td>\n",
       "      <td>1769</td>\n",
       "      <td>919373</td>\n",
       "      <td>0</td>\n",
       "      <td>405</td>\n",
       "      <td>50090</td>\n",
       "      <td>11550</td>\n",
       "      <td>29887</td>\n",
       "      <td>33242</td>\n",
       "      <td>Negeri</td>\n",
       "    </tr>\n",
       "    <tr>\n",
       "      <th>3</th>\n",
       "      <td>Prov. D.I. Yogyakarta</td>\n",
       "      <td>214</td>\n",
       "      <td>92678</td>\n",
       "      <td>0</td>\n",
       "      <td>6</td>\n",
       "      <td>5461</td>\n",
       "      <td>1328</td>\n",
       "      <td>2959</td>\n",
       "      <td>3252</td>\n",
       "      <td>Negeri</td>\n",
       "    </tr>\n",
       "    <tr>\n",
       "      <th>4</th>\n",
       "      <td>Prov. Jawa Timur</td>\n",
       "      <td>1729</td>\n",
       "      <td>829308</td>\n",
       "      <td>0</td>\n",
       "      <td>516</td>\n",
       "      <td>47839</td>\n",
       "      <td>11527</td>\n",
       "      <td>27071</td>\n",
       "      <td>31506</td>\n",
       "      <td>Negeri</td>\n",
       "    </tr>\n",
       "  </tbody>\n",
       "</table>\n",
       "</div>"
      ],
      "text/plain": [
       "                Provinsi  Sekolah    Siswa  Mengulang  Putus Sekolah  \\\n",
       "0   Prov. D.K.I. Jakarta      293   222930          0            181   \n",
       "1       Prov. Jawa Barat     1969  1113692          0            502   \n",
       "2      Prov. Jawa Tengah     1769   919373          0            405   \n",
       "3  Prov. D.I. Yogyakarta      214    92678          0              6   \n",
       "4       Prov. Jawa Timur     1729   829308          0            516   \n",
       "\n",
       "   Kepala Sekolah & Guru  Tenaga Kependidikan  Rombel  Ruang Kelas  Status  \n",
       "0                   9693                 2209    6043         6228  Negeri  \n",
       "1                  52541                11470   33594        38750  Negeri  \n",
       "2                  50090                11550   29887        33242  Negeri  \n",
       "3                   5461                 1328    2959         3252  Negeri  \n",
       "4                  47839                11527   27071        31506  Negeri  "
      ]
     },
     "execution_count": 50,
     "metadata": {},
     "output_type": "execute_result"
    }
   ],
   "source": [
    "df_2021.head()"
   ]
  },
  {
   "cell_type": "code",
   "execution_count": 51,
   "metadata": {},
   "outputs": [
    {
     "data": {
      "text/html": [
       "<div>\n",
       "<style scoped>\n",
       "    .dataframe tbody tr th:only-of-type {\n",
       "        vertical-align: middle;\n",
       "    }\n",
       "\n",
       "    .dataframe tbody tr th {\n",
       "        vertical-align: top;\n",
       "    }\n",
       "\n",
       "    .dataframe thead th {\n",
       "        text-align: right;\n",
       "    }\n",
       "</style>\n",
       "<table border=\"1\" class=\"dataframe\">\n",
       "  <thead>\n",
       "    <tr style=\"text-align: right;\">\n",
       "      <th></th>\n",
       "      <th>Provinsi</th>\n",
       "      <th>Sekolah</th>\n",
       "      <th>Siswa</th>\n",
       "      <th>Mengulang</th>\n",
       "      <th>Putus Sekolah</th>\n",
       "      <th>Kepala Sekolah &amp; Guru</th>\n",
       "      <th>Tenaga Kependidikan</th>\n",
       "      <th>Rombel</th>\n",
       "      <th>Ruang Kelas</th>\n",
       "      <th>Status</th>\n",
       "    </tr>\n",
       "  </thead>\n",
       "  <tbody>\n",
       "    <tr>\n",
       "      <th>0</th>\n",
       "      <td>Prov. D.K.I. Jakarta</td>\n",
       "      <td>293</td>\n",
       "      <td>219543</td>\n",
       "      <td>0</td>\n",
       "      <td>188</td>\n",
       "      <td>9842</td>\n",
       "      <td>2191</td>\n",
       "      <td>6024</td>\n",
       "      <td>5968</td>\n",
       "      <td>Negeri</td>\n",
       "    </tr>\n",
       "    <tr>\n",
       "      <th>1</th>\n",
       "      <td>Prov. Jawa Barat</td>\n",
       "      <td>1982</td>\n",
       "      <td>1108220</td>\n",
       "      <td>0</td>\n",
       "      <td>513</td>\n",
       "      <td>52596</td>\n",
       "      <td>11151</td>\n",
       "      <td>33519</td>\n",
       "      <td>35898</td>\n",
       "      <td>Negeri</td>\n",
       "    </tr>\n",
       "    <tr>\n",
       "      <th>2</th>\n",
       "      <td>Prov. Jawa Tengah</td>\n",
       "      <td>1771</td>\n",
       "      <td>913433</td>\n",
       "      <td>0</td>\n",
       "      <td>243</td>\n",
       "      <td>50220</td>\n",
       "      <td>11087</td>\n",
       "      <td>29841</td>\n",
       "      <td>31171</td>\n",
       "      <td>Negeri</td>\n",
       "    </tr>\n",
       "    <tr>\n",
       "      <th>3</th>\n",
       "      <td>Prov. D.I. Yogyakarta</td>\n",
       "      <td>214</td>\n",
       "      <td>92111</td>\n",
       "      <td>0</td>\n",
       "      <td>9</td>\n",
       "      <td>5525</td>\n",
       "      <td>1258</td>\n",
       "      <td>2966</td>\n",
       "      <td>3137</td>\n",
       "      <td>Negeri</td>\n",
       "    </tr>\n",
       "    <tr>\n",
       "      <th>4</th>\n",
       "      <td>Prov. Jawa Timur</td>\n",
       "      <td>1731</td>\n",
       "      <td>809355</td>\n",
       "      <td>0</td>\n",
       "      <td>423</td>\n",
       "      <td>47594</td>\n",
       "      <td>10987</td>\n",
       "      <td>26762</td>\n",
       "      <td>29516</td>\n",
       "      <td>Negeri</td>\n",
       "    </tr>\n",
       "  </tbody>\n",
       "</table>\n",
       "</div>"
      ],
      "text/plain": [
       "                Provinsi  Sekolah    Siswa  Mengulang  Putus Sekolah  \\\n",
       "0   Prov. D.K.I. Jakarta      293   219543          0            188   \n",
       "1       Prov. Jawa Barat     1982  1108220          0            513   \n",
       "2      Prov. Jawa Tengah     1771   913433          0            243   \n",
       "3  Prov. D.I. Yogyakarta      214    92111          0              9   \n",
       "4       Prov. Jawa Timur     1731   809355          0            423   \n",
       "\n",
       "   Kepala Sekolah & Guru  Tenaga Kependidikan  Rombel  Ruang Kelas  Status  \n",
       "0                   9842                 2191    6024         5968  Negeri  \n",
       "1                  52596                11151   33519        35898  Negeri  \n",
       "2                  50220                11087   29841        31171  Negeri  \n",
       "3                   5525                 1258    2966         3137  Negeri  \n",
       "4                  47594                10987   26762        29516  Negeri  "
      ]
     },
     "execution_count": 51,
     "metadata": {},
     "output_type": "execute_result"
    }
   ],
   "source": [
    "df_2022.head()"
   ]
  },
  {
   "cell_type": "code",
   "execution_count": 52,
   "metadata": {},
   "outputs": [
    {
     "data": {
      "text/html": [
       "<div>\n",
       "<style scoped>\n",
       "    .dataframe tbody tr th:only-of-type {\n",
       "        vertical-align: middle;\n",
       "    }\n",
       "\n",
       "    .dataframe tbody tr th {\n",
       "        vertical-align: top;\n",
       "    }\n",
       "\n",
       "    .dataframe thead th {\n",
       "        text-align: right;\n",
       "    }\n",
       "</style>\n",
       "<table border=\"1\" class=\"dataframe\">\n",
       "  <thead>\n",
       "    <tr style=\"text-align: right;\">\n",
       "      <th></th>\n",
       "      <th>Provinsi</th>\n",
       "      <th>Sekolah</th>\n",
       "      <th>Siswa</th>\n",
       "      <th>Mengulang</th>\n",
       "      <th>Putus Sekolah</th>\n",
       "      <th>Kepala Sekolah &amp; Guru</th>\n",
       "      <th>Tenaga Kependidikan</th>\n",
       "      <th>Rombel</th>\n",
       "      <th>Ruang Kelas</th>\n",
       "      <th>Status</th>\n",
       "    </tr>\n",
       "  </thead>\n",
       "  <tbody>\n",
       "    <tr>\n",
       "      <th>0</th>\n",
       "      <td>Prov. D.K.I. Jakarta</td>\n",
       "      <td>293</td>\n",
       "      <td>212200</td>\n",
       "      <td>179</td>\n",
       "      <td>39</td>\n",
       "      <td>0</td>\n",
       "      <td>0</td>\n",
       "      <td>6027</td>\n",
       "      <td>5979</td>\n",
       "      <td>Negeri</td>\n",
       "    </tr>\n",
       "    <tr>\n",
       "      <th>1</th>\n",
       "      <td>Prov. Jawa Barat</td>\n",
       "      <td>1982</td>\n",
       "      <td>1140073</td>\n",
       "      <td>590</td>\n",
       "      <td>601</td>\n",
       "      <td>0</td>\n",
       "      <td>0</td>\n",
       "      <td>34002</td>\n",
       "      <td>36851</td>\n",
       "      <td>Negeri</td>\n",
       "    </tr>\n",
       "    <tr>\n",
       "      <th>2</th>\n",
       "      <td>Prov. Jawa Tengah</td>\n",
       "      <td>1772</td>\n",
       "      <td>926618</td>\n",
       "      <td>475</td>\n",
       "      <td>337</td>\n",
       "      <td>0</td>\n",
       "      <td>0</td>\n",
       "      <td>29985</td>\n",
       "      <td>31696</td>\n",
       "      <td>Negeri</td>\n",
       "    </tr>\n",
       "    <tr>\n",
       "      <th>3</th>\n",
       "      <td>Prov. D.I. Yogyakarta</td>\n",
       "      <td>214</td>\n",
       "      <td>92471</td>\n",
       "      <td>5</td>\n",
       "      <td>4</td>\n",
       "      <td>0</td>\n",
       "      <td>0</td>\n",
       "      <td>2969</td>\n",
       "      <td>3157</td>\n",
       "      <td>Negeri</td>\n",
       "    </tr>\n",
       "    <tr>\n",
       "      <th>4</th>\n",
       "      <td>Prov. Jawa Timur</td>\n",
       "      <td>1737</td>\n",
       "      <td>811528</td>\n",
       "      <td>557</td>\n",
       "      <td>842</td>\n",
       "      <td>0</td>\n",
       "      <td>0</td>\n",
       "      <td>26723</td>\n",
       "      <td>30018</td>\n",
       "      <td>Negeri</td>\n",
       "    </tr>\n",
       "  </tbody>\n",
       "</table>\n",
       "</div>"
      ],
      "text/plain": [
       "                Provinsi  Sekolah    Siswa  Mengulang  Putus Sekolah  \\\n",
       "0   Prov. D.K.I. Jakarta      293   212200        179             39   \n",
       "1       Prov. Jawa Barat     1982  1140073        590            601   \n",
       "2      Prov. Jawa Tengah     1772   926618        475            337   \n",
       "3  Prov. D.I. Yogyakarta      214    92471          5              4   \n",
       "4       Prov. Jawa Timur     1737   811528        557            842   \n",
       "\n",
       "   Kepala Sekolah & Guru  Tenaga Kependidikan  Rombel  Ruang Kelas  Status  \n",
       "0                      0                    0    6027         5979  Negeri  \n",
       "1                      0                    0   34002        36851  Negeri  \n",
       "2                      0                    0   29985        31696  Negeri  \n",
       "3                      0                    0    2969         3157  Negeri  \n",
       "4                      0                    0   26723        30018  Negeri  "
      ]
     },
     "execution_count": 52,
     "metadata": {},
     "output_type": "execute_result"
    }
   ],
   "source": [
    "df_2023.head()"
   ]
  },
  {
   "cell_type": "code",
   "execution_count": 53,
   "metadata": {},
   "outputs": [
    {
     "data": {
      "text/plain": [
       "0     Prov. D.K.I. Jakarta\n",
       "1         Prov. Jawa Barat\n",
       "2        Prov. Jawa Tengah\n",
       "3    Prov. D.I. Yogyakarta\n",
       "4         Prov. Jawa Timur\n",
       "Name: Provinsi, dtype: object"
      ]
     },
     "execution_count": 53,
     "metadata": {},
     "output_type": "execute_result"
    }
   ],
   "source": [
    "df_prov= df_2021[\"Provinsi\"]\n",
    "df_prov.head()"
   ]
  },
  {
   "cell_type": "code",
   "execution_count": 54,
   "metadata": {},
   "outputs": [],
   "source": [
    "df_putus_sekolah_2021= df_2021[\"Putus Sekolah\"] \n",
    "df_putus_sekolah_2022= df_2022[\"Putus Sekolah\"] \n",
    "df_putus_sekolah_2023= df_2023[\"Putus Sekolah\"]"
   ]
  },
  {
   "cell_type": "code",
   "execution_count": 55,
   "metadata": {},
   "outputs": [],
   "source": [
    "df_putus_sekolah= pd.concat([df_putus_sekolah_2021, df_putus_sekolah_2022, df_putus_sekolah_2023], axis=1)\n",
    "df_putus_sekolah.columns= [\"2021\", \"2022\", \"2023\"]"
   ]
  },
  {
   "cell_type": "code",
   "execution_count": 56,
   "metadata": {},
   "outputs": [
    {
     "data": {
      "text/html": [
       "<div>\n",
       "<style scoped>\n",
       "    .dataframe tbody tr th:only-of-type {\n",
       "        vertical-align: middle;\n",
       "    }\n",
       "\n",
       "    .dataframe tbody tr th {\n",
       "        vertical-align: top;\n",
       "    }\n",
       "\n",
       "    .dataframe thead th {\n",
       "        text-align: right;\n",
       "    }\n",
       "</style>\n",
       "<table border=\"1\" class=\"dataframe\">\n",
       "  <thead>\n",
       "    <tr style=\"text-align: right;\">\n",
       "      <th></th>\n",
       "      <th>Provinsi</th>\n",
       "      <th>2021</th>\n",
       "      <th>2022</th>\n",
       "      <th>2023</th>\n",
       "    </tr>\n",
       "  </thead>\n",
       "  <tbody>\n",
       "    <tr>\n",
       "      <th>0</th>\n",
       "      <td>Prov. D.K.I. Jakarta</td>\n",
       "      <td>181.0</td>\n",
       "      <td>188.0</td>\n",
       "      <td>39</td>\n",
       "    </tr>\n",
       "    <tr>\n",
       "      <th>1</th>\n",
       "      <td>Prov. Jawa Barat</td>\n",
       "      <td>502.0</td>\n",
       "      <td>513.0</td>\n",
       "      <td>601</td>\n",
       "    </tr>\n",
       "    <tr>\n",
       "      <th>2</th>\n",
       "      <td>Prov. Jawa Tengah</td>\n",
       "      <td>405.0</td>\n",
       "      <td>243.0</td>\n",
       "      <td>337</td>\n",
       "    </tr>\n",
       "    <tr>\n",
       "      <th>3</th>\n",
       "      <td>Prov. D.I. Yogyakarta</td>\n",
       "      <td>6.0</td>\n",
       "      <td>9.0</td>\n",
       "      <td>4</td>\n",
       "    </tr>\n",
       "    <tr>\n",
       "      <th>4</th>\n",
       "      <td>Prov. Jawa Timur</td>\n",
       "      <td>516.0</td>\n",
       "      <td>423.0</td>\n",
       "      <td>842</td>\n",
       "    </tr>\n",
       "    <tr>\n",
       "      <th>...</th>\n",
       "      <td>...</td>\n",
       "      <td>...</td>\n",
       "      <td>...</td>\n",
       "      <td>...</td>\n",
       "    </tr>\n",
       "    <tr>\n",
       "      <th>73</th>\n",
       "      <td>NaN</td>\n",
       "      <td>NaN</td>\n",
       "      <td>NaN</td>\n",
       "      <td>5</td>\n",
       "    </tr>\n",
       "    <tr>\n",
       "      <th>74</th>\n",
       "      <td>NaN</td>\n",
       "      <td>NaN</td>\n",
       "      <td>NaN</td>\n",
       "      <td>63</td>\n",
       "    </tr>\n",
       "    <tr>\n",
       "      <th>75</th>\n",
       "      <td>NaN</td>\n",
       "      <td>NaN</td>\n",
       "      <td>NaN</td>\n",
       "      <td>4</td>\n",
       "    </tr>\n",
       "    <tr>\n",
       "      <th>76</th>\n",
       "      <td>NaN</td>\n",
       "      <td>NaN</td>\n",
       "      <td>NaN</td>\n",
       "      <td>142</td>\n",
       "    </tr>\n",
       "    <tr>\n",
       "      <th>77</th>\n",
       "      <td>NaN</td>\n",
       "      <td>NaN</td>\n",
       "      <td>NaN</td>\n",
       "      <td>49</td>\n",
       "    </tr>\n",
       "  </tbody>\n",
       "</table>\n",
       "<p>78 rows × 4 columns</p>\n",
       "</div>"
      ],
      "text/plain": [
       "                 Provinsi   2021   2022  2023\n",
       "0    Prov. D.K.I. Jakarta  181.0  188.0    39\n",
       "1        Prov. Jawa Barat  502.0  513.0   601\n",
       "2       Prov. Jawa Tengah  405.0  243.0   337\n",
       "3   Prov. D.I. Yogyakarta    6.0    9.0     4\n",
       "4        Prov. Jawa Timur  516.0  423.0   842\n",
       "..                    ...    ...    ...   ...\n",
       "73                    NaN    NaN    NaN     5\n",
       "74                    NaN    NaN    NaN    63\n",
       "75                    NaN    NaN    NaN     4\n",
       "76                    NaN    NaN    NaN   142\n",
       "77                    NaN    NaN    NaN    49\n",
       "\n",
       "[78 rows x 4 columns]"
      ]
     },
     "execution_count": 56,
     "metadata": {},
     "output_type": "execute_result"
    }
   ],
   "source": [
    "df= pd.concat([df_prov, df_putus_sekolah], axis=1)\n",
    "df"
   ]
  },
  {
   "cell_type": "code",
   "execution_count": 57,
   "metadata": {},
   "outputs": [
    {
     "data": {
      "text/plain": [
       "Provinsi    8\n",
       "2021        8\n",
       "2022        8\n",
       "2023        0\n",
       "dtype: int64"
      ]
     },
     "execution_count": 57,
     "metadata": {},
     "output_type": "execute_result"
    }
   ],
   "source": [
    "df.isnull().sum()"
   ]
  },
  {
   "cell_type": "code",
   "execution_count": 58,
   "metadata": {},
   "outputs": [
    {
     "data": {
      "text/plain": [
       "Provinsi    0\n",
       "2021        0\n",
       "2022        0\n",
       "2023        0\n",
       "dtype: int64"
      ]
     },
     "execution_count": 58,
     "metadata": {},
     "output_type": "execute_result"
    }
   ],
   "source": [
    "df.dropna(inplace=True)\n",
    "df.isnull().sum()"
   ]
  },
  {
   "cell_type": "code",
   "execution_count": 59,
   "metadata": {},
   "outputs": [],
   "source": [
    "df.to_csv('putus_sekolah.csv', index=False)"
   ]
  },
  {
   "cell_type": "code",
   "execution_count": 60,
   "metadata": {},
   "outputs": [
    {
     "data": {
      "text/html": [
       "<div>\n",
       "<style scoped>\n",
       "    .dataframe tbody tr th:only-of-type {\n",
       "        vertical-align: middle;\n",
       "    }\n",
       "\n",
       "    .dataframe tbody tr th {\n",
       "        vertical-align: top;\n",
       "    }\n",
       "\n",
       "    .dataframe thead th {\n",
       "        text-align: right;\n",
       "    }\n",
       "</style>\n",
       "<table border=\"1\" class=\"dataframe\">\n",
       "  <thead>\n",
       "    <tr style=\"text-align: right;\">\n",
       "      <th></th>\n",
       "      <th>Provinsi</th>\n",
       "      <th>2021</th>\n",
       "      <th>2022</th>\n",
       "      <th>2023</th>\n",
       "    </tr>\n",
       "  </thead>\n",
       "  <tbody>\n",
       "    <tr>\n",
       "      <th>5</th>\n",
       "      <td>Prov. Aceh</td>\n",
       "      <td>307.0</td>\n",
       "      <td>329.0</td>\n",
       "      <td>461</td>\n",
       "    </tr>\n",
       "    <tr>\n",
       "      <th>40</th>\n",
       "      <td>Prov. Aceh</td>\n",
       "      <td>69.0</td>\n",
       "      <td>111.0</td>\n",
       "      <td>1280</td>\n",
       "    </tr>\n",
       "  </tbody>\n",
       "</table>\n",
       "</div>"
      ],
      "text/plain": [
       "      Provinsi   2021   2022  2023\n",
       "5   Prov. Aceh  307.0  329.0   461\n",
       "40  Prov. Aceh   69.0  111.0  1280"
      ]
     },
     "execution_count": 60,
     "metadata": {},
     "output_type": "execute_result"
    }
   ],
   "source": [
    "df[df[\"Provinsi\"]==\"Prov. Aceh\"]"
   ]
  },
  {
   "cell_type": "code",
   "execution_count": 61,
   "metadata": {},
   "outputs": [
    {
     "data": {
      "text/plain": [
       "Provinsi    Prov. D.K.I. JakartaProv. Jawa BaratProv. Jawa...\n",
       "2021                                                  15042.0\n",
       "2022                                                  13716.0\n",
       "2023                                                    16980\n",
       "dtype: object"
      ]
     },
     "execution_count": 61,
     "metadata": {},
     "output_type": "execute_result"
    }
   ],
   "source": [
    "df_overall= df.sum()\n",
    "df_overall"
   ]
  },
  {
   "cell_type": "code",
   "execution_count": 65,
   "metadata": {},
   "outputs": [],
   "source": [
    "df_overall.drop(\"Provinsi\", inplace=True)\n",
    "df_overall"
   ]
  },
  {
   "cell_type": "code",
   "execution_count": 70,
   "metadata": {},
   "outputs": [
    {
     "data": {
      "text/plain": [
       "<Axes: title={'center': 'Jumlah Putus Sekolah di Indonesia (2021-2023)'}, xlabel='Tahun', ylabel='Jumlah Putus Sekolah'>"
      ]
     },
     "execution_count": 70,
     "metadata": {},
     "output_type": "execute_result"
    },
    {
     "data": {
      "image/png": "[encoded data removed]",
      "text/plain": [
       "<Figure size 640x480 with 1 Axes>"
      ]
     },
     "metadata": {},
     "output_type": "display_data"
    }
   ],
   "source": [
    "df_overall.plot(kind=\"line\", title=\"Jumlah Putus Sekolah di Indonesia (2021-2023)\", xlabel=\"Tahun\", ylabel=\"Jumlah Putus Sekolah\")"
   ]
  },
  {
   "cell_type": "code",
   "execution_count": 71,
   "metadata": {},
   "outputs": [],
   "source": [
    "df_overall.to_csv('putus_sekolah_overall.csv')"
   ]
  }
 ],
 "metadata": {
  "kernelspec": {
   "display_name": "Python 3",
   "language": "python",
   "name": "python3"
  },
  "language_info": {
   "codemirror_mode": {
    "name": "ipython",
    "version": 3
   },
   "file_extension": ".py",
   "mimetype": "text/x-python",
   "name": "python",
   "nbconvert_exporter": "python",
   "pygments_lexer": "ipython3",
   "version": "3.12.4"
  }
 },
 "nbformat": 4,
 "nbformat_minor": 2
}
