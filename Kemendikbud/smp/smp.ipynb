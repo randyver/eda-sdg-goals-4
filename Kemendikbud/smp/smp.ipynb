{
 "cells": [
  {
   "cell_type": "code",
   "execution_count": 13,
   "metadata": {},
   "outputs": [
    {
     "data": {
      "text/html": [
       "<div>\n",
       "<style scoped>\n",
       "    .dataframe tbody tr th:only-of-type {\n",
       "        vertical-align: middle;\n",
       "    }\n",
       "\n",
       "    .dataframe tbody tr th {\n",
       "        vertical-align: top;\n",
       "    }\n",
       "\n",
       "    .dataframe thead th {\n",
       "        text-align: right;\n",
       "    }\n",
       "</style>\n",
       "<table border=\"1\" class=\"dataframe\">\n",
       "  <thead>\n",
       "    <tr style=\"text-align: right;\">\n",
       "      <th></th>\n",
       "      <th>Provinsi</th>\n",
       "      <th>2021</th>\n",
       "      <th>2022</th>\n",
       "      <th>2023</th>\n",
       "      <th>Status</th>\n",
       "    </tr>\n",
       "  </thead>\n",
       "  <tbody>\n",
       "    <tr>\n",
       "      <th>0</th>\n",
       "      <td>Prov. D.K.I. Jakarta</td>\n",
       "      <td>181</td>\n",
       "      <td>188</td>\n",
       "      <td>39</td>\n",
       "      <td>Negeri</td>\n",
       "    </tr>\n",
       "    <tr>\n",
       "      <th>1</th>\n",
       "      <td>Prov. Jawa Barat</td>\n",
       "      <td>502</td>\n",
       "      <td>513</td>\n",
       "      <td>601</td>\n",
       "      <td>Negeri</td>\n",
       "    </tr>\n",
       "    <tr>\n",
       "      <th>2</th>\n",
       "      <td>Prov. Jawa Tengah</td>\n",
       "      <td>405</td>\n",
       "      <td>243</td>\n",
       "      <td>337</td>\n",
       "      <td>Negeri</td>\n",
       "    </tr>\n",
       "    <tr>\n",
       "      <th>3</th>\n",
       "      <td>Prov. D.I. Yogyakarta</td>\n",
       "      <td>6</td>\n",
       "      <td>9</td>\n",
       "      <td>4</td>\n",
       "      <td>Negeri</td>\n",
       "    </tr>\n",
       "    <tr>\n",
       "      <th>4</th>\n",
       "      <td>Prov. Jawa Timur</td>\n",
       "      <td>516</td>\n",
       "      <td>423</td>\n",
       "      <td>842</td>\n",
       "      <td>Negeri</td>\n",
       "    </tr>\n",
       "  </tbody>\n",
       "</table>\n",
       "</div>"
      ],
      "text/plain": [
       "                Provinsi  2021  2022  2023  Status\n",
       "0   Prov. D.K.I. Jakarta   181   188    39  Negeri\n",
       "1       Prov. Jawa Barat   502   513   601  Negeri\n",
       "2      Prov. Jawa Tengah   405   243   337  Negeri\n",
       "3  Prov. D.I. Yogyakarta     6     9     4  Negeri\n",
       "4       Prov. Jawa Timur   516   423   842  Negeri"
      ]
     },
     "execution_count": 13,
     "metadata": {},
     "output_type": "execute_result"
    }
   ],
   "source": [
    "# read data from xlsx\n",
    "import pandas as pd\n",
    "\n",
    "df = pd.read_csv('smp.csv')\n",
    "df.head()"
   ]
  },
  {
   "cell_type": "code",
   "execution_count": 14,
   "metadata": {},
   "outputs": [],
   "source": [
    "# Hitung total untuk masing-masing tahun berdasarkan status\n",
    "total = df.groupby('Provinsi').agg({\n",
    "    '2021': 'sum',\n",
    "    '2022': 'sum',\n",
    "    '2023': 'sum'\n",
    "}).rename(columns={'2021': '2021_Total', '2022': '2022_Total', '2023': '2023_Total'})\n",
    "\n",
    "# Gabungkan hasil dengan data asli tanpa kolom 'Status'\n",
    "df_combined = df[['Provinsi']].drop_duplicates().set_index('Provinsi').join(total).reset_index()\n",
    "\n",
    "# Simpan hasil ke file CSV di folder 'csv'\n",
    "df_combined.to_csv('smp_total.csv', index=False)\n"
   ]
  }
 ],
 "metadata": {
  "kernelspec": {
   "display_name": "Python 3",
   "language": "python",
   "name": "python3"
  },
  "language_info": {
   "codemirror_mode": {
    "name": "ipython",
    "version": 3
   },
   "file_extension": ".py",
   "mimetype": "text/x-python",
   "name": "python",
   "nbconvert_exporter": "python",
   "pygments_lexer": "ipython3",
   "version": "3.11.1"
  }
 },
 "nbformat": 4,
 "nbformat_minor": 2
}
