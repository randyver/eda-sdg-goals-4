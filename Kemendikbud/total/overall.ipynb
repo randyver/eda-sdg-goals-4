{
 "cells": [
  {
   "cell_type": "code",
   "execution_count": 3,
   "metadata": {},
   "outputs": [
    {
     "name": "stdout",
     "output_type": "stream",
     "text": [
      "File berhasil disimpan sebagai 'csv/overall.csv'\n"
     ]
    }
   ],
   "source": [
    "import pandas as pd\n",
    "\n",
    "# Baca file CSV untuk SD, SMP, dan SMA\n",
    "df_sd = pd.read_csv('../sd/sd_total.csv')\n",
    "df_smp = pd.read_csv('../smp/smp_total.csv')\n",
    "df_sma = pd.read_csv('../sma/sma_total.csv')\n",
    "\n",
    "# Gabungkan data berdasarkan provinsi\n",
    "df_combined = df_sd.set_index('Provinsi').add(df_smp.set_index('Provinsi'), fill_value=0).add(df_sma.set_index('Provinsi'), fill_value=0)\n",
    "\n",
    "# Reset index agar provinsi kembali menjadi kolom\n",
    "df_combined.reset_index(inplace=True)\n",
    "\n",
    "# Simpan hasil ke file CSV di folder 'csv' dengan nama 'overall.csv'\n",
    "df_combined.to_csv('overall.csv', index=False)\n"
   ]
  }
 ],
 "metadata": {
  "kernelspec": {
   "display_name": "Python 3",
   "language": "python",
   "name": "python3"
  },
  "language_info": {
   "codemirror_mode": {
    "name": "ipython",
    "version": 3
   },
   "file_extension": ".py",
   "mimetype": "text/x-python",
   "name": "python",
   "nbconvert_exporter": "python",
   "pygments_lexer": "ipython3",
   "version": "3.11.1"
  }
 },
 "nbformat": 4,
 "nbformat_minor": 2
}
