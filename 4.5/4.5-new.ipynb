{
 "cells": [
  {
   "cell_type": "code",
   "execution_count": 2,
   "metadata": {},
   "outputs": [
    {
     "data": {
      "text/html": [
       "<div>\n",
       "<style scoped>\n",
       "    .dataframe tbody tr th:only-of-type {\n",
       "        vertical-align: middle;\n",
       "    }\n",
       "\n",
       "    .dataframe tbody tr th {\n",
       "        vertical-align: top;\n",
       "    }\n",
       "\n",
       "    .dataframe thead th {\n",
       "        text-align: right;\n",
       "    }\n",
       "</style>\n",
       "<table border=\"1\" class=\"dataframe\">\n",
       "  <thead>\n",
       "    <tr style=\"text-align: right;\">\n",
       "      <th></th>\n",
       "      <th>Goal</th>\n",
       "      <th>Target</th>\n",
       "      <th>Indicator</th>\n",
       "      <th>SeriesCode</th>\n",
       "      <th>SeriesDescription</th>\n",
       "      <th>GeoAreaCode</th>\n",
       "      <th>GeoAreaName</th>\n",
       "      <th>TimePeriod</th>\n",
       "      <th>Value</th>\n",
       "      <th>Time_Detail</th>\n",
       "      <th>...</th>\n",
       "      <th>FootNote</th>\n",
       "      <th>Age</th>\n",
       "      <th>Education level</th>\n",
       "      <th>Location</th>\n",
       "      <th>Nature</th>\n",
       "      <th>Quantile</th>\n",
       "      <th>Reporting Type</th>\n",
       "      <th>Sex</th>\n",
       "      <th>Type of skill</th>\n",
       "      <th>Units</th>\n",
       "    </tr>\n",
       "  </thead>\n",
       "  <tbody>\n",
       "    <tr>\n",
       "      <th>0</th>\n",
       "      <td>4</td>\n",
       "      <td>4.5</td>\n",
       "      <td>4.5.1</td>\n",
       "      <td>SE_AGP_CPRA</td>\n",
       "      <td>Adjusted gender parity index for completion ra...</td>\n",
       "      <td>8</td>\n",
       "      <td>Albania</td>\n",
       "      <td>2000</td>\n",
       "      <td>1.02182</td>\n",
       "      <td>2000</td>\n",
       "      <td>...</td>\n",
       "      <td>NaN</td>\n",
       "      <td>NaN</td>\n",
       "      <td>PRIMAR</td>\n",
       "      <td>ALLAREA</td>\n",
       "      <td>C</td>\n",
       "      <td>_T</td>\n",
       "      <td>G</td>\n",
       "      <td>NaN</td>\n",
       "      <td>NaN</td>\n",
       "      <td>Ratio</td>\n",
       "    </tr>\n",
       "    <tr>\n",
       "      <th>1</th>\n",
       "      <td>4</td>\n",
       "      <td>4.5</td>\n",
       "      <td>4.5.1</td>\n",
       "      <td>SE_AGP_CPRA</td>\n",
       "      <td>Adjusted gender parity index for completion ra...</td>\n",
       "      <td>8</td>\n",
       "      <td>Albania</td>\n",
       "      <td>2000</td>\n",
       "      <td>0.99209</td>\n",
       "      <td>2000</td>\n",
       "      <td>...</td>\n",
       "      <td>NaN</td>\n",
       "      <td>NaN</td>\n",
       "      <td>UPPSEC</td>\n",
       "      <td>ALLAREA</td>\n",
       "      <td>C</td>\n",
       "      <td>_T</td>\n",
       "      <td>G</td>\n",
       "      <td>NaN</td>\n",
       "      <td>NaN</td>\n",
       "      <td>Ratio</td>\n",
       "    </tr>\n",
       "    <tr>\n",
       "      <th>2</th>\n",
       "      <td>4</td>\n",
       "      <td>4.5</td>\n",
       "      <td>4.5.1</td>\n",
       "      <td>SE_AGP_CPRA</td>\n",
       "      <td>Adjusted gender parity index for completion ra...</td>\n",
       "      <td>8</td>\n",
       "      <td>Albania</td>\n",
       "      <td>2000</td>\n",
       "      <td>0.99978</td>\n",
       "      <td>2000</td>\n",
       "      <td>...</td>\n",
       "      <td>NaN</td>\n",
       "      <td>NaN</td>\n",
       "      <td>LOWSEC</td>\n",
       "      <td>ALLAREA</td>\n",
       "      <td>C</td>\n",
       "      <td>_T</td>\n",
       "      <td>G</td>\n",
       "      <td>NaN</td>\n",
       "      <td>NaN</td>\n",
       "      <td>Ratio</td>\n",
       "    </tr>\n",
       "    <tr>\n",
       "      <th>3</th>\n",
       "      <td>4</td>\n",
       "      <td>4.5</td>\n",
       "      <td>4.5.1</td>\n",
       "      <td>SE_AGP_CPRA</td>\n",
       "      <td>Adjusted gender parity index for completion ra...</td>\n",
       "      <td>8</td>\n",
       "      <td>Albania</td>\n",
       "      <td>2001</td>\n",
       "      <td>1.00145</td>\n",
       "      <td>2001</td>\n",
       "      <td>...</td>\n",
       "      <td>NaN</td>\n",
       "      <td>NaN</td>\n",
       "      <td>PRIMAR</td>\n",
       "      <td>ALLAREA</td>\n",
       "      <td>C</td>\n",
       "      <td>_T</td>\n",
       "      <td>G</td>\n",
       "      <td>NaN</td>\n",
       "      <td>NaN</td>\n",
       "      <td>Ratio</td>\n",
       "    </tr>\n",
       "    <tr>\n",
       "      <th>4</th>\n",
       "      <td>4</td>\n",
       "      <td>4.5</td>\n",
       "      <td>4.5.1</td>\n",
       "      <td>SE_AGP_CPRA</td>\n",
       "      <td>Adjusted gender parity index for completion ra...</td>\n",
       "      <td>8</td>\n",
       "      <td>Albania</td>\n",
       "      <td>2002</td>\n",
       "      <td>1.00248</td>\n",
       "      <td>2002</td>\n",
       "      <td>...</td>\n",
       "      <td>NaN</td>\n",
       "      <td>NaN</td>\n",
       "      <td>PRIMAR</td>\n",
       "      <td>ALLAREA</td>\n",
       "      <td>C</td>\n",
       "      <td>_T</td>\n",
       "      <td>G</td>\n",
       "      <td>NaN</td>\n",
       "      <td>NaN</td>\n",
       "      <td>Ratio</td>\n",
       "    </tr>\n",
       "  </tbody>\n",
       "</table>\n",
       "<p>5 rows × 26 columns</p>\n",
       "</div>"
      ],
      "text/plain": [
       "   Goal  Target Indicator   SeriesCode  \\\n",
       "0     4     4.5     4.5.1  SE_AGP_CPRA   \n",
       "1     4     4.5     4.5.1  SE_AGP_CPRA   \n",
       "2     4     4.5     4.5.1  SE_AGP_CPRA   \n",
       "3     4     4.5     4.5.1  SE_AGP_CPRA   \n",
       "4     4     4.5     4.5.1  SE_AGP_CPRA   \n",
       "\n",
       "                                   SeriesDescription  GeoAreaCode GeoAreaName  \\\n",
       "0  Adjusted gender parity index for completion ra...            8     Albania   \n",
       "1  Adjusted gender parity index for completion ra...            8     Albania   \n",
       "2  Adjusted gender parity index for completion ra...            8     Albania   \n",
       "3  Adjusted gender parity index for completion ra...            8     Albania   \n",
       "4  Adjusted gender parity index for completion ra...            8     Albania   \n",
       "\n",
       "   TimePeriod    Value  Time_Detail  ...  FootNote  Age  Education level  \\\n",
       "0        2000  1.02182         2000  ...       NaN  NaN           PRIMAR   \n",
       "1        2000  0.99209         2000  ...       NaN  NaN           UPPSEC   \n",
       "2        2000  0.99978         2000  ...       NaN  NaN           LOWSEC   \n",
       "3        2001  1.00145         2001  ...       NaN  NaN           PRIMAR   \n",
       "4        2002  1.00248         2002  ...       NaN  NaN           PRIMAR   \n",
       "\n",
       "   Location Nature  Quantile Reporting Type  Sex Type of skill  Units  \n",
       "0   ALLAREA      C        _T              G  NaN           NaN  Ratio  \n",
       "1   ALLAREA      C        _T              G  NaN           NaN  Ratio  \n",
       "2   ALLAREA      C        _T              G  NaN           NaN  Ratio  \n",
       "3   ALLAREA      C        _T              G  NaN           NaN  Ratio  \n",
       "4   ALLAREA      C        _T              G  NaN           NaN  Ratio  \n",
       "\n",
       "[5 rows x 26 columns]"
      ]
     },
     "execution_count": 2,
     "metadata": {},
     "output_type": "execute_result"
    }
   ],
   "source": [
    "# read data\n",
    "import pandas as pd\n",
    "\n",
    "df = pd.read_excel('4.5-new.xlsx')\n",
    "df.head()"
   ]
  },
  {
   "cell_type": "code",
   "execution_count": 3,
   "metadata": {},
   "outputs": [
    {
     "name": "stdout",
     "output_type": "stream",
     "text": [
      "<class 'pandas.core.frame.DataFrame'>\n",
      "RangeIndex: 65143 entries, 0 to 65142\n",
      "Data columns (total 26 columns):\n",
      " #   Column             Non-Null Count  Dtype  \n",
      "---  ------             --------------  -----  \n",
      " 0   Goal               65143 non-null  int64  \n",
      " 1   Target             65143 non-null  float64\n",
      " 2   Indicator          65143 non-null  object \n",
      " 3   SeriesCode         65143 non-null  object \n",
      " 4   SeriesDescription  65143 non-null  object \n",
      " 5   GeoAreaCode        65143 non-null  int64  \n",
      " 6   GeoAreaName        65143 non-null  object \n",
      " 7   TimePeriod         65143 non-null  int64  \n",
      " 8   Value              65143 non-null  float64\n",
      " 9   Time_Detail        65143 non-null  int64  \n",
      " 10  TimeCoverage       0 non-null      float64\n",
      " 11  UpperBound         0 non-null      float64\n",
      " 12  LowerBound         0 non-null      float64\n",
      " 13  BasePeriod         0 non-null      float64\n",
      " 14  Source             65143 non-null  object \n",
      " 15  GeoInfoUrl         0 non-null      float64\n",
      " 16  FootNote           8958 non-null   object \n",
      " 17  Age                2678 non-null   object \n",
      " 18  Education level    55281 non-null  object \n",
      " 19  Location           29715 non-null  object \n",
      " 20  Nature             65143 non-null  object \n",
      " 21  Quantile           45151 non-null  object \n",
      " 22  Reporting Type     65143 non-null  object \n",
      " 23  Sex                24550 non-null  object \n",
      " 24  Type of skill      8964 non-null   object \n",
      " 25  Units              65143 non-null  object \n",
      "dtypes: float64(7), int64(4), object(15)\n",
      "memory usage: 12.9+ MB\n"
     ]
    }
   ],
   "source": [
    "df.info()"
   ]
  },
  {
   "cell_type": "code",
   "execution_count": 4,
   "metadata": {},
   "outputs": [
    {
     "data": {
      "text/plain": [
       "Goal                     1\n",
       "Target                   1\n",
       "Indicator                1\n",
       "SeriesCode              15\n",
       "SeriesDescription       15\n",
       "GeoAreaCode            183\n",
       "GeoAreaName            183\n",
       "TimePeriod              24\n",
       "Value                38909\n",
       "Time_Detail             24\n",
       "TimeCoverage             0\n",
       "UpperBound               0\n",
       "LowerBound               0\n",
       "BasePeriod               0\n",
       "Source                1237\n",
       "GeoInfoUrl               0\n",
       "FootNote               164\n",
       "Age                      5\n",
       "Education level          6\n",
       "Location                 3\n",
       "Nature                   3\n",
       "Quantile                 6\n",
       "Reporting Type           1\n",
       "Sex                      3\n",
       "Type of skill           26\n",
       "Units                    1\n",
       "dtype: int64"
      ]
     },
     "execution_count": 4,
     "metadata": {},
     "output_type": "execute_result"
    }
   ],
   "source": [
    "df.nunique()"
   ]
  },
  {
   "cell_type": "code",
   "execution_count": 5,
   "metadata": {},
   "outputs": [
    {
     "data": {
      "text/plain": [
       "SeriesCode              15\n",
       "SeriesDescription       15\n",
       "GeoAreaCode            183\n",
       "GeoAreaName            183\n",
       "TimePeriod              24\n",
       "Value                38909\n",
       "Time_Detail             24\n",
       "Source                1237\n",
       "FootNote               164\n",
       "Age                      5\n",
       "Education level          6\n",
       "Location                 3\n",
       "Nature                   3\n",
       "Quantile                 6\n",
       "Sex                      3\n",
       "Type of skill           26\n",
       "dtype: int64"
      ]
     },
     "execution_count": 5,
     "metadata": {},
     "output_type": "execute_result"
    }
   ],
   "source": [
    "# ambil column selain column yang memiliki unique value 1 atau 0\n",
    "df = df.loc[:, df.nunique() > 1]\n",
    "df.nunique()"
   ]
  },
  {
   "cell_type": "code",
   "execution_count": 6,
   "metadata": {},
   "outputs": [
    {
     "name": "stdout",
     "output_type": "stream",
     "text": [
      "<class 'pandas.core.frame.DataFrame'>\n",
      "Index: 662 entries, 7823 to 64543\n",
      "Data columns (total 16 columns):\n",
      " #   Column             Non-Null Count  Dtype  \n",
      "---  ------             --------------  -----  \n",
      " 0   SeriesCode         662 non-null    object \n",
      " 1   SeriesDescription  662 non-null    object \n",
      " 2   GeoAreaCode        662 non-null    int64  \n",
      " 3   GeoAreaName        662 non-null    object \n",
      " 4   TimePeriod         662 non-null    int64  \n",
      " 5   Value              662 non-null    float64\n",
      " 6   Time_Detail        662 non-null    int64  \n",
      " 7   Source             662 non-null    object \n",
      " 8   FootNote           6 non-null      object \n",
      " 9   Age                50 non-null     object \n",
      " 10  Education level    573 non-null    object \n",
      " 11  Location           312 non-null    object \n",
      " 12  Nature             662 non-null    object \n",
      " 13  Quantile           486 non-null    object \n",
      " 14  Sex                264 non-null    object \n",
      " 15  Type of skill      114 non-null    object \n",
      "dtypes: float64(1), int64(3), object(12)\n",
      "memory usage: 87.9+ KB\n"
     ]
    }
   ],
   "source": [
    "df_indonesia = df[df[\"GeoAreaName\"] == \"Indonesia\"]\n",
    "df_indonesia.info()"
   ]
  },
  {
   "cell_type": "code",
   "execution_count": 7,
   "metadata": {},
   "outputs": [
    {
     "data": {
      "text/plain": [
       "SeriesCode             0\n",
       "SeriesDescription      0\n",
       "GeoAreaCode            0\n",
       "GeoAreaName            0\n",
       "TimePeriod             0\n",
       "Value                  0\n",
       "Time_Detail            0\n",
       "Source                 0\n",
       "FootNote             656\n",
       "Age                  612\n",
       "Education level       89\n",
       "Location             350\n",
       "Nature                 0\n",
       "Quantile             176\n",
       "Sex                  398\n",
       "Type of skill        548\n",
       "dtype: int64"
      ]
     },
     "execution_count": 7,
     "metadata": {},
     "output_type": "execute_result"
    }
   ],
   "source": [
    "# check missing value for each column\n",
    "df_indonesia.isnull().sum()"
   ]
  },
  {
   "cell_type": "code",
   "execution_count": 8,
   "metadata": {},
   "outputs": [
    {
     "data": {
      "text/plain": [
       "SeriesCode            0.000000\n",
       "SeriesDescription     0.000000\n",
       "GeoAreaCode           0.000000\n",
       "GeoAreaName           0.000000\n",
       "TimePeriod            0.000000\n",
       "Value                 0.000000\n",
       "Time_Detail           0.000000\n",
       "Source                0.000000\n",
       "FootNote             99.093656\n",
       "Age                  92.447130\n",
       "Education level      13.444109\n",
       "Location             52.870091\n",
       "Nature                0.000000\n",
       "Quantile             26.586103\n",
       "Sex                  60.120846\n",
       "Type of skill        82.779456\n",
       "dtype: float64"
      ]
     },
     "execution_count": 8,
     "metadata": {},
     "output_type": "execute_result"
    }
   ],
   "source": [
    "# persentase missing value\n",
    "df_indonesia.isnull().mean() * 100"
   ]
  },
  {
   "cell_type": "code",
   "execution_count": 10,
   "metadata": {},
   "outputs": [
    {
     "data": {
      "text/plain": [
       "array(['Adjusted gender parity index for completion rate, by location, wealth quintile and education level',\n",
       "       'Adjusted location parity index for completion rate, by sex, wealth quintile and education level',\n",
       "       'Adjusted wealth parity index for completion rate, by sex, location and education level',\n",
       "       'Gender parity index for youth/adults with information and communications technology (ICT) skills, by type of skill (ratio)',\n",
       "       'Adjusted gender parity index for participation rate in formal and non-formal education and training (ratio)',\n",
       "       'Adjusted gender parity index for participation rate in organized learning (one year before the official primary entry age), (ratio)',\n",
       "       'Adjusted gender parity index for the proportion of teachers with the minimum required qualifications, by education level (ratio)',\n",
       "       'Adjusted language test parity index for achieving a minimum proficiency level in reading and mathematics (ratio)',\n",
       "       'Adjusted immigration status parity index for achieving a minimum proficiency level in reading and mathematics (ratio)',\n",
       "       'Adjusted gender parity index for achieving a minimum proficiency level in reading and mathematics (ratio)',\n",
       "       'Adjusted rural to urban parity index for achieving a minimum proficiency level in reading and mathematics (ratio)',\n",
       "       'Adjusted low to high socio-economic parity index for achieving a minimum proficiency level in reading and mathematics (ratio)'],\n",
       "      dtype=object)"
      ]
     },
     "execution_count": 10,
     "metadata": {},
     "output_type": "execute_result"
    }
   ],
   "source": [
    "df_indonesia[\"SeriesDescription\"].unique()"
   ]
  },
  {
   "cell_type": "code",
   "execution_count": 12,
   "metadata": {},
   "outputs": [
    {
     "data": {
      "text/plain": [
       "array(['ALLAREA', 'RURAL', 'URBAN', nan], dtype=object)"
      ]
     },
     "execution_count": 12,
     "metadata": {},
     "output_type": "execute_result"
    }
   ],
   "source": [
    "df_indonesia[\"Location\"].unique()"
   ]
  },
  {
   "cell_type": "code",
   "execution_count": 13,
   "metadata": {},
   "outputs": [
    {
     "data": {
      "text/plain": [
       "array(['PRIMAR', 'LOWSEC', 'UPPSEC', nan, 'SECOND'], dtype=object)"
      ]
     },
     "execution_count": 13,
     "metadata": {},
     "output_type": "execute_result"
    }
   ],
   "source": [
    "df_indonesia[\"Education level\"].unique()"
   ]
  }
 ],
 "metadata": {
  "kernelspec": {
   "display_name": "Python 3",
   "language": "python",
   "name": "python3"
  },
  "language_info": {
   "codemirror_mode": {
    "name": "ipython",
    "version": 3
   },
   "file_extension": ".py",
   "mimetype": "text/x-python",
   "name": "python",
   "nbconvert_exporter": "python",
   "pygments_lexer": "ipython3",
   "version": "3.11.1"
  }
 },
 "nbformat": 4,
 "nbformat_minor": 2
}
